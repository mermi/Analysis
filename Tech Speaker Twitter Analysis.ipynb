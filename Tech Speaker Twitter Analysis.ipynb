{
 "cells": [
  {
   "cell_type": "code",
   "execution_count": 1,
   "metadata": {
    "collapsed": true,
    "deletable": true,
    "editable": true
   },
   "outputs": [],
   "source": [
    "import pandas as pd\n",
    "import string\n",
    "import operator"
   ]
  },
  {
   "cell_type": "code",
   "execution_count": 3,
   "metadata": {
    "collapsed": false,
    "deletable": true,
    "editable": true
   },
   "outputs": [
    {
     "name": "stdout",
     "output_type": "stream",
     "text": [
      "\"Tweet id\",\"Tweet permalink\",\"Tweet text\",\"time\",\"impressions\",\"engagements\",\"engagement rate\",\"retweets\",\"replies\",\"likes\",\"user profile clicks\",\"url clicks\",\"hashtag clicks\",\"detail expands\",\"permalink clicks\",\"app opens\",\"app installs\",\"follows\",\"email tweet\",\"dial phone\",\"media views\",\"media engagements\",\"promoted impressions\",\"promoted engagements\",\"promoted engagement rate\",\"promoted retweets\",\"promoted replies\",\"promoted likes\",\"promoted user profile clicks\",\"promoted url clicks\",\"promoted hashtag clicks\",\"promoted detail expands\",\"promoted permalink clicks\",\"promoted app opens\",\"promoted app installs\",\"promoted follows\",\"promoted email tweet\",\"promoted dial phone\",\"promoted media views\",\"promoted media engagements\"\r\n",
      "\"861736323127930881\",\"https://twitter.com/mozTechSpeakers/status/861736323127930881\",\"@trishi_de @lakatos88 @ioana_cis @slsoftworks @manelbutterfly @KohlerSolutions @gabriel_micko We are always happy to see our dinos adopted by nice families. Thank you for coming by!\",\"2017-05-09 00:15 +0000\",\"77.0\",\"3.0\",\"0.03896103896103896\",\"0.0\",\"0.0\",\"2.0\",\"0.0\",\"0.0\",\"0.0\",\"1.0\",\"0.0\",\"0\",\"0\",\"0\",\"0\",\"0\",\"0\",\"0\",\"-\",\"-\",\"-\",\"-\",\"-\",\"-\",\"-\",\"-\",\"-\",\"-\",\"-\",\"-\",\"-\",\"-\",\"-\",\"-\",\"-\",\"-\"\r\n",
      "\"861735644355276800\",\"https://twitter.com/mozTechSpeakers/status/861735644355276800\",\"Thank you for coming by and trying out our demos! https://t.co/r6RALxaG4J\",\"2017-05-09 00:12 +0000\",\"125.0\",\"4.0\",\"0.032\",\"0.0\",\"0.0\",\"4.0\",\"0.0\",\"0.0\",\"0.0\",\"0.0\",\"0.0\",\"0\",\"0\",\"0\",\"0\",\"0\",\"0\",\"0\",\"-\",\"-\",\"-\",\"-\",\"-\",\"-\",\"-\",\"-\",\"-\",\"-\",\"-\",\"-\",\"-\",\"-\",\"-\",\"-\",\"-\",\"-\"\r\n",
      "\"861735332231995392\",\"https://twitter.com/mozTechSpeakers/status/861735332231995392\",\"@eDominykas We had a nice booth! Take a look at the Quantum project if you can. The next generation engine is using the power of Rust in some cool ways\",\"2017-05-09 00:11 +0000\",\"21.0\",\"0.0\",\"0.0\",\"0.0\",\"0.0\",\"0.0\",\"0.0\",\"0.0\",\"0.0\",\"0.0\",\"0.0\",\"0\",\"0\",\"0\",\"0\",\"0\",\"0\",\"0\",\"-\",\"-\",\"-\",\"-\",\"-\",\"-\",\"-\",\"-\",\"-\",\"-\",\"-\",\"-\",\"-\",\"-\",\"-\",\"-\",\"-\",\"-\"\r\n",
      "\"861207505153732609\",\"https://twitter.com/mozTechSpeakers/status/861207505153732609\",\"@alexnmoldovan @manelbutterfly @ioana_cis @jsheroes Sadly you're clashing with @DevSum_swe this year 😢. but maybe next year?\",\"2017-05-07 13:14 +0000\",\"80.0\",\"4.0\",\"0.05\",\"0.0\",\"1.0\",\"0.0\",\"1.0\",\"0.0\",\"0.0\",\"2.0\",\"0.0\",\"0\",\"0\",\"0\",\"0\",\"0\",\"0\",\"0\",\"-\",\"-\",\"-\",\"-\",\"-\",\"-\",\"-\",\"-\",\"-\",\"-\",\"-\",\"-\",\"-\",\"-\",\"-\",\"-\",\"-\",\"-\"\r\n",
      "\"861195205621501952\",\"https://twitter.com/mozTechSpeakers/status/861195205621501952\",\"The lovely #moztechspeakers working the #mozilla booth at #jsconfeu. Say 'hi' and ask us anything! https://t.co/KUcAmpKIcC\",\"2017-05-07 12:25 +0000\",\"3080.0\",\"117.0\",\"0.037987012987012986\",\"9.0\",\"1.0\",\"36.0\",\"7.0\",\"2.0\",\"3.0\",\"8.0\",\"0.0\",\"0\",\"0\",\"2\",\"0\",\"0\",\"49\",\"49\",\"-\",\"-\",\"-\",\"-\",\"-\",\"-\",\"-\",\"-\",\"-\",\"-\",\"-\",\"-\",\"-\",\"-\",\"-\",\"-\",\"-\",\"-\"\r\n",
      "\"860832805604950016\",\"https://twitter.com/mozTechSpeakers/status/860832805604950016\",\"There's #moztechspeakers as well during the day sporting the awesome hoodie. Feel free to say 'HI' #jsconfeu 🦊 https://t.co/o7K6XslyIX\",\"2017-05-06 12:25 +0000\",\"334.0\",\"4.0\",\"0.011976047904191617\",\"0.0\",\"0.0\",\"3.0\",\"1.0\",\"0.0\",\"0.0\",\"0.0\",\"0.0\",\"0\",\"0\",\"0\",\"0\",\"0\",\"0\",\"0\",\"-\",\"-\",\"-\",\"-\",\"-\",\"-\",\"-\",\"-\",\"-\",\"-\",\"-\",\"-\",\"-\",\"-\",\"-\",\"-\",\"-\",\"-\"\r\n",
      "\"860791678852091905\",\"https://twitter.com/mozTechSpeakers/status/860791678852091905\",\"Our very own @AnjanaVakil taking the stage at #jsconfeu, talking immutable #javascript. And we're front and centre to watch the awesomeness https://t.co/X21i35ESy5\",\"2017-05-06 09:41 +0000\",\"2128.0\",\"87.0\",\"0.04088345864661654\",\"9.0\",\"1.0\",\"33.0\",\"8.0\",\"4.0\",\"2.0\",\"9.0\",\"0.0\",\"0\",\"0\",\"1\",\"0\",\"0\",\"20\",\"20\",\"-\",\"-\",\"-\",\"-\",\"-\",\"-\",\"-\",\"-\",\"-\",\"-\",\"-\",\"-\",\"-\",\"-\",\"-\",\"-\",\"-\",\"-\"\r\n",
      "\"860775520874704896\",\"https://twitter.com/mozTechSpeakers/status/860775520874704896\",\"Our @gianniskon reports back on the WebVR camp last month at @OpenLabsAlbania, home of fellow #TechSpeakers @KristiProgri and @elioqoshi https://t.co/DgrRFoIag9\",\"2017-05-06 08:37 +0000\",\"366.0\",\"8.0\",\"0.02185792349726776\",\"1.0\",\"0.0\",\"4.0\",\"1.0\",\"0.0\",\"0.0\",\"2.0\",\"0.0\",\"0\",\"0\",\"0\",\"0\",\"0\",\"0\",\"0\",\"-\",\"-\",\"-\",\"-\",\"-\",\"-\",\"-\",\"-\",\"-\",\"-\",\"-\",\"-\",\"-\",\"-\",\"-\",\"-\",\"-\",\"-\"\r\n",
      "\"860433031030558721\",\"https://twitter.com/mozTechSpeakers/status/860433031030558721\",\"Show us your dexterity, @CSSconfeu peeps! Flail and paint in three-dee-vee-arrrr—in the Mozilla Hackerlounge! 😋 #cssconfeu #mozhacks #webvr https://t.co/qy40JwyqY6\",\"2017-05-05 09:56 +0000\",\"282.0\",\"7.0\",\"0.024822695035460994\",\"0.0\",\"0.0\",\"6.0\",\"0.0\",\"0.0\",\"0.0\",\"1.0\",\"0.0\",\"0\",\"0\",\"0\",\"0\",\"0\",\"0\",\"0\",\"-\",\"-\",\"-\",\"-\",\"-\",\"-\",\"-\",\"-\",\"-\",\"-\",\"-\",\"-\",\"-\",\"-\",\"-\",\"-\",\"-\",\"-\"\r\n"
     ]
    }
   ],
   "source": [
    "!head -10 tweet_activity_metrics_mozTechSpeakers_20170209_20170511_en.csv"
   ]
  },
  {
   "cell_type": "code",
   "execution_count": 2,
   "metadata": {
    "collapsed": false,
    "deletable": true,
    "editable": true
   },
   "outputs": [],
   "source": [
    "def load_tweets(tweet_file):\n",
    "\n",
    "    # Read tweet data \n",
    "    tweet_df = pd.read_csv(tweet_file)\n",
    "\n",
    "    # Drop irrelevant columns\n",
    "    tweet_df = tweet_df.drop(tweet_df.columns[[13,14,15,16,17,18,19,20,21,22,23,24,25,26,27,28,29,30,31,32,33,34,35,36,37,38,39]], axis=1)\n",
    "\n",
    "    return tweet_df"
   ]
  },
  {
   "cell_type": "code",
   "execution_count": 3,
   "metadata": {
    "collapsed": false,
    "deletable": true,
    "editable": true
   },
   "outputs": [
    {
     "data": {
      "text/html": [
       "<div>\n",
       "<table border=\"1\" class=\"dataframe\">\n",
       "  <thead>\n",
       "    <tr style=\"text-align: right;\">\n",
       "      <th></th>\n",
       "      <th>Tweet id</th>\n",
       "      <th>Tweet permalink</th>\n",
       "      <th>Tweet text</th>\n",
       "      <th>time</th>\n",
       "      <th>impressions</th>\n",
       "      <th>engagements</th>\n",
       "      <th>engagement rate</th>\n",
       "      <th>retweets</th>\n",
       "      <th>replies</th>\n",
       "      <th>likes</th>\n",
       "      <th>user profile clicks</th>\n",
       "      <th>url clicks</th>\n",
       "      <th>hashtag clicks</th>\n",
       "    </tr>\n",
       "  </thead>\n",
       "  <tbody>\n",
       "    <tr>\n",
       "      <th>0</th>\n",
       "      <td>861736323127930881</td>\n",
       "      <td>https://twitter.com/mozTechSpeakers/status/861...</td>\n",
       "      <td>@trishi_de @lakatos88 @ioana_cis @slsoftworks ...</td>\n",
       "      <td>2017-05-09 00:15 +0000</td>\n",
       "      <td>77.0</td>\n",
       "      <td>3.0</td>\n",
       "      <td>0.038961</td>\n",
       "      <td>0.0</td>\n",
       "      <td>0.0</td>\n",
       "      <td>2.0</td>\n",
       "      <td>0.0</td>\n",
       "      <td>0.0</td>\n",
       "      <td>0.0</td>\n",
       "    </tr>\n",
       "    <tr>\n",
       "      <th>1</th>\n",
       "      <td>861735644355276800</td>\n",
       "      <td>https://twitter.com/mozTechSpeakers/status/861...</td>\n",
       "      <td>Thank you for coming by and trying out our dem...</td>\n",
       "      <td>2017-05-09 00:12 +0000</td>\n",
       "      <td>125.0</td>\n",
       "      <td>4.0</td>\n",
       "      <td>0.032000</td>\n",
       "      <td>0.0</td>\n",
       "      <td>0.0</td>\n",
       "      <td>4.0</td>\n",
       "      <td>0.0</td>\n",
       "      <td>0.0</td>\n",
       "      <td>0.0</td>\n",
       "    </tr>\n",
       "    <tr>\n",
       "      <th>2</th>\n",
       "      <td>861735332231995392</td>\n",
       "      <td>https://twitter.com/mozTechSpeakers/status/861...</td>\n",
       "      <td>@eDominykas We had a nice booth! Take a look a...</td>\n",
       "      <td>2017-05-09 00:11 +0000</td>\n",
       "      <td>21.0</td>\n",
       "      <td>0.0</td>\n",
       "      <td>0.000000</td>\n",
       "      <td>0.0</td>\n",
       "      <td>0.0</td>\n",
       "      <td>0.0</td>\n",
       "      <td>0.0</td>\n",
       "      <td>0.0</td>\n",
       "      <td>0.0</td>\n",
       "    </tr>\n",
       "    <tr>\n",
       "      <th>3</th>\n",
       "      <td>861207505153732609</td>\n",
       "      <td>https://twitter.com/mozTechSpeakers/status/861...</td>\n",
       "      <td>@alexnmoldovan @manelbutterfly @ioana_cis @jsh...</td>\n",
       "      <td>2017-05-07 13:14 +0000</td>\n",
       "      <td>80.0</td>\n",
       "      <td>4.0</td>\n",
       "      <td>0.050000</td>\n",
       "      <td>0.0</td>\n",
       "      <td>1.0</td>\n",
       "      <td>0.0</td>\n",
       "      <td>1.0</td>\n",
       "      <td>0.0</td>\n",
       "      <td>0.0</td>\n",
       "    </tr>\n",
       "    <tr>\n",
       "      <th>4</th>\n",
       "      <td>861195205621501952</td>\n",
       "      <td>https://twitter.com/mozTechSpeakers/status/861...</td>\n",
       "      <td>The lovely #moztechspeakers working the #mozil...</td>\n",
       "      <td>2017-05-07 12:25 +0000</td>\n",
       "      <td>3080.0</td>\n",
       "      <td>117.0</td>\n",
       "      <td>0.037987</td>\n",
       "      <td>9.0</td>\n",
       "      <td>1.0</td>\n",
       "      <td>36.0</td>\n",
       "      <td>7.0</td>\n",
       "      <td>2.0</td>\n",
       "      <td>3.0</td>\n",
       "    </tr>\n",
       "  </tbody>\n",
       "</table>\n",
       "</div>"
      ],
      "text/plain": [
       "             Tweet id                                    Tweet permalink  \\\n",
       "0  861736323127930881  https://twitter.com/mozTechSpeakers/status/861...   \n",
       "1  861735644355276800  https://twitter.com/mozTechSpeakers/status/861...   \n",
       "2  861735332231995392  https://twitter.com/mozTechSpeakers/status/861...   \n",
       "3  861207505153732609  https://twitter.com/mozTechSpeakers/status/861...   \n",
       "4  861195205621501952  https://twitter.com/mozTechSpeakers/status/861...   \n",
       "\n",
       "                                          Tweet text                    time  \\\n",
       "0  @trishi_de @lakatos88 @ioana_cis @slsoftworks ...  2017-05-09 00:15 +0000   \n",
       "1  Thank you for coming by and trying out our dem...  2017-05-09 00:12 +0000   \n",
       "2  @eDominykas We had a nice booth! Take a look a...  2017-05-09 00:11 +0000   \n",
       "3  @alexnmoldovan @manelbutterfly @ioana_cis @jsh...  2017-05-07 13:14 +0000   \n",
       "4  The lovely #moztechspeakers working the #mozil...  2017-05-07 12:25 +0000   \n",
       "\n",
       "   impressions  engagements  engagement rate  retweets  replies  likes  \\\n",
       "0         77.0          3.0         0.038961       0.0      0.0    2.0   \n",
       "1        125.0          4.0         0.032000       0.0      0.0    4.0   \n",
       "2         21.0          0.0         0.000000       0.0      0.0    0.0   \n",
       "3         80.0          4.0         0.050000       0.0      1.0    0.0   \n",
       "4       3080.0        117.0         0.037987       9.0      1.0   36.0   \n",
       "\n",
       "   user profile clicks  url clicks  hashtag clicks  \n",
       "0                  0.0         0.0             0.0  \n",
       "1                  0.0         0.0             0.0  \n",
       "2                  0.0         0.0             0.0  \n",
       "3                  1.0         0.0             0.0  \n",
       "4                  7.0         2.0             3.0  "
      ]
     },
     "execution_count": 3,
     "metadata": {},
     "output_type": "execute_result"
    }
   ],
   "source": [
    "tweet_df = load_tweets('tweet_activity_metrics_mozTechSpeakers_20170209_20170511_en.csv')\n",
    "tweet_df.head()"
   ]
  },
  {
   "cell_type": "code",
   "execution_count": 4,
   "metadata": {
    "collapsed": false,
    "deletable": true,
    "editable": true
   },
   "outputs": [
    {
     "data": {
      "text/plain": [
       "33"
      ]
     },
     "execution_count": 4,
     "metadata": {},
     "output_type": "execute_result"
    }
   ],
   "source": [
    "len(tweet_df.index)"
   ]
  },
  {
   "cell_type": "code",
   "execution_count": 5,
   "metadata": {
    "collapsed": false,
    "deletable": true,
    "editable": true
   },
   "outputs": [
    {
     "name": "stdout",
     "output_type": "stream",
     "text": [
      "Total tweets this period: 33 \n",
      "\n",
      "Mean retweets: 2.21 \n",
      "\n",
      "Top 5 RTed tweets:\n",
      "------------------\n",
      "Great post by @andgokevin about “Minecraft in WebVR with HTML using @aframevr tutorial available on @Real_CSS_Tricks https://t.co/cgxLrLfyfD - 15.0\n",
      "📯 Announcing Mobile World Progress Amsterdam, Weds May 10th eve! Feat. @torgo &amp; @ioana_cis. Register now! https://t.co/MjU6jkbCTx  #mwp17 - 13.0\n",
      "The lovely #moztechspeakers working the #mozilla booth at #jsconfeu. Say 'hi' and ask us anything! https://t.co/KUcAmpKIcC - 9.0\n",
      "Our very own @AnjanaVakil taking the stage at #jsconfeu, talking immutable #javascript. And we're front and centre to watch the awesomeness https://t.co/X21i35ESy5 - 9.0\n",
      "We're friendly and we're here to help! 🙌 https://t.co/a6QDXtkN8L - 8.0\n",
      "\n",
      "\n",
      "Mean likes: 7.79 \n",
      "\n",
      "Top 5 liked tweets:\n",
      "-------------------\n",
      "The lovely #moztechspeakers working the #mozilla booth at #jsconfeu. Say 'hi' and ask us anything! https://t.co/KUcAmpKIcC - 36.0\n",
      "Our very own @AnjanaVakil taking the stage at #jsconfeu, talking immutable #javascript. And we're front and centre to watch the awesomeness https://t.co/X21i35ESy5 - 33.0\n",
      "Great post by @andgokevin about “Minecraft in WebVR with HTML using @aframevr tutorial available on @Real_CSS_Tricks https://t.co/cgxLrLfyfD - 30.0\n",
      "Our awesome Tech Speakers are helping out with the @mozilla #london #devroadshow tonight. Ask them anything! https://t.co/wK4Vc5jTBx - 20.0\n",
      "Gloria talking about her experience with Django in @DjangoConEurope #techSpeakers https://t.co/BOrhOCKfa7 - 16.0\n",
      "\n",
      "\n",
      "Mean impressions: 1762.52 \n",
      "\n",
      "Top 5 tweets with most impressions:\n",
      "-----------------------------------\n",
      "Great post by @andgokevin about “Minecraft in WebVR with HTML using @aframevr tutorial available on @Real_CSS_Tricks https://t.co/cgxLrLfyfD - 27348.0\n",
      "📯 Announcing Mobile World Progress Amsterdam, Weds May 10th eve! Feat. @torgo &amp; @ioana_cis. Register now! https://t.co/MjU6jkbCTx  #mwp17 - 11934.0\n",
      "The lovely #moztechspeakers working the #mozilla booth at #jsconfeu. Say 'hi' and ask us anything! https://t.co/KUcAmpKIcC - 3080.0\n",
      "Our very own @AnjanaVakil taking the stage at #jsconfeu, talking immutable #javascript. And we're front and centre to watch the awesomeness https://t.co/X21i35ESy5 - 2128.0\n",
      "We're friendly and we're here to help! 🙌 https://t.co/a6QDXtkN8L - 1964.0\n"
     ]
    }
   ],
   "source": [
    "# Total tweets\n",
    "print('Total tweets this period:', len(tweet_df.index), '\\n')\n",
    "\n",
    "# Retweets\n",
    "tweet_df = tweet_df.sort_values(by='retweets', ascending=False)\n",
    "tweet_df = tweet_df.reset_index(drop=True)\n",
    "print('Mean retweets:', round(tweet_df['retweets'].mean(),2), '\\n') \n",
    "print('Top 5 RTed tweets:') \n",
    "print('------------------') \n",
    "for i in range(5):\n",
    "    print(tweet_df['Tweet text'].ix[i], '-', tweet_df['retweets'].ix[i]) \n",
    "print('\\n') \n",
    "    \n",
    "# Likes\n",
    "tweet_df = tweet_df.sort_values(by='likes', ascending=False)\n",
    "tweet_df = tweet_df.reset_index(drop=True)\n",
    "print( 'Mean likes:', round(tweet_df['likes'].mean(),2), '\\n')\n",
    "print('Top 5 liked tweets:') \n",
    "print ('-------------------')\n",
    "for i in range(5):\n",
    "    print(tweet_df['Tweet text'].ix[i], '-', tweet_df['likes'].ix[i])\n",
    "print('\\n') \n",
    "\n",
    "# Impressions\n",
    "tweet_df = tweet_df.sort_values(by='impressions', ascending=False)\n",
    "tweet_df = tweet_df.reset_index(drop=True)\n",
    "print('Mean impressions:', round(tweet_df['impressions'].mean(),2), '\\n') \n",
    "print('Top 5 tweets with most impressions:')\n",
    "print('-----------------------------------') \n",
    "for i in range(5):\n",
    "    print(tweet_df['Tweet text'].ix[i], '-', tweet_df['impressions'].ix[i])"
   ]
  },
  {
   "cell_type": "markdown",
   "metadata": {
    "deletable": true,
    "editable": true
   },
   "source": [
    "## TOP hashtags"
   ]
  },
  {
   "cell_type": "code",
   "execution_count": 1,
   "metadata": {
    "collapsed": false,
    "deletable": true,
    "editable": true
   },
   "outputs": [
    {
     "ename": "NameError",
     "evalue": "name 'tweet_df' is not defined",
     "output_type": "error",
     "traceback": [
      "\u001b[0;31m---------------------------------------------------------------------------\u001b[0m",
      "\u001b[0;31mNameError\u001b[0m                                 Traceback (most recent call last)",
      "\u001b[0;32m<ipython-input-1-9f264031c6ca>\u001b[0m in \u001b[0;36m<module>\u001b[0;34m()\u001b[0m\n\u001b[1;32m      3\u001b[0m \u001b[0mmention_dict\u001b[0m \u001b[0;34m=\u001b[0m \u001b[0;34m{\u001b[0m\u001b[0;34m}\u001b[0m\u001b[0;34m\u001b[0m\u001b[0m\n\u001b[1;32m      4\u001b[0m \u001b[0;34m\u001b[0m\u001b[0m\n\u001b[0;32m----> 5\u001b[0;31m \u001b[0;32mfor\u001b[0m \u001b[0mi\u001b[0m \u001b[0;32min\u001b[0m \u001b[0mtweet_df\u001b[0m\u001b[0;34m.\u001b[0m\u001b[0mindex\u001b[0m\u001b[0;34m:\u001b[0m\u001b[0;34m\u001b[0m\u001b[0m\n\u001b[0m\u001b[1;32m      6\u001b[0m     \u001b[0mtweet_text\u001b[0m \u001b[0;34m=\u001b[0m \u001b[0mtweet_df\u001b[0m\u001b[0;34m.\u001b[0m\u001b[0mix\u001b[0m\u001b[0;34m[\u001b[0m\u001b[0mi\u001b[0m\u001b[0;34m]\u001b[0m\u001b[0;34m[\u001b[0m\u001b[0;34m'Tweet text'\u001b[0m\u001b[0;34m]\u001b[0m\u001b[0;34m\u001b[0m\u001b[0m\n\u001b[1;32m      7\u001b[0m     \u001b[0mtweet\u001b[0m \u001b[0;34m=\u001b[0m \u001b[0mtweet_text\u001b[0m\u001b[0;34m.\u001b[0m\u001b[0mlower\u001b[0m\u001b[0;34m(\u001b[0m\u001b[0;34m)\u001b[0m\u001b[0;34m\u001b[0m\u001b[0m\n",
      "\u001b[0;31mNameError\u001b[0m: name 'tweet_df' is not defined"
     ]
    }
   ],
   "source": [
    "# Hashtags & mentions\n",
    "tag_dict = {}\n",
    "mention_dict = {}\n",
    "\n",
    "for i in tweet_df.index:\n",
    "    tweet_text = tweet_df.ix[i]['Tweet text']\n",
    "    tweet = tweet_text.lower()\n",
    "    tweet_tokenized = tweet.split()\n",
    "\n",
    "    for word in tweet_tokenized:\n",
    "        # Hashtags - tokenize and build dict of tag counts\n",
    "        if (word[0:1] == '#' and len(word) > 1):\n",
    "            key = word.translate(str.maketrans(\"\",\"\"))\n",
    "            if key in tag_dict:\n",
    "                tag_dict[key] += 1\n",
    "            else:\n",
    "                tag_dict[key] = 1\n",
    "\n",
    "        # Mentions - tokenize and build dict of mention counts\n",
    "        if (word[0:1] == '@' and len(word) > 1):\n",
    "            key = word.translate(str.maketrans(\"\",\"\"))\n",
    "            if key in mention_dict:\n",
    "                mention_dict[key] += 1\n",
    "            else:\n",
    "                mention_dict[key] = 1\n",
    "\n",
    "# The 10 most popular tags and counts\n",
    "top_tags = dict(sorted(tag_dict.values(), key=operator.itemgetter(1), reverse=True)[:10])\n",
    "top_tags_sorted = sorted(top_tags.items(), key=lambda x: x[1])[::-1]\n",
    "print('Top 10 hashtags:')\n",
    "print( '----------------')\n",
    "for tag in top_tags_sorted:\n",
    "    print( tag[0], '-', str(tag[1]))\n",
    "    \n",
    "# The 10 most popular mentions and counts\n",
    "top_mentions = dict(sorted(mention_dict.iteritems(), key=operator.itemgetter(1), reverse=True))\n",
    "top_mentions_sorted = sorted(top_mentions.items(), key=lambda x: x[1])[::-1]\n",
    "print( '\\nTop 10 mentions:')\n",
    "print( '----------------')\n",
    "# sumln = sum(int(i))\n",
    "for mention in top_mentions_sorted:\n",
    "    print( mention[0], '-', str(mention[1]))"
   ]
  },
  {
   "cell_type": "code",
   "execution_count": null,
   "metadata": {
    "collapsed": true,
    "deletable": true,
    "editable": true
   },
   "outputs": [],
   "source": []
  }
 ],
 "metadata": {
  "kernelspec": {
   "display_name": "Python 3",
   "language": "python",
   "name": "python3"
  },
  "language_info": {
   "codemirror_mode": {
    "name": "ipython",
    "version": 3
   },
   "file_extension": ".py",
   "mimetype": "text/x-python",
   "name": "python",
   "nbconvert_exporter": "python",
   "pygments_lexer": "ipython3",
   "version": "3.4.3"
  }
 },
 "nbformat": 4,
 "nbformat_minor": 2
}
